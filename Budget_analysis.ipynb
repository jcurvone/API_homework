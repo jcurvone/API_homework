{
 "cells": [
  {
   "cell_type": "code",
   "execution_count": 1,
   "metadata": {},
   "outputs": [],
   "source": [
    "import os\n",
    "import plaid\n",
    "import requests\n",
    "import datetime\n",
    "import json\n",
    "import pandas as pd\n",
    "from dotenv import load_dotenv\n",
    "\n",
    "%matplotlib inline"
   ]
  },
  {
   "cell_type": "code",
   "execution_count": 2,
   "metadata": {},
   "outputs": [],
   "source": [
    "def pretty_print_response(response):\n",
    "    print(json.dumps(response, indent=4, sort_keys=True))"
   ]
  },
  {
   "cell_type": "code",
   "execution_count": 3,
   "metadata": {},
   "outputs": [
    {
     "data": {
      "text/plain": [
       "True"
      ]
     },
     "execution_count": 3,
     "metadata": {},
     "output_type": "execute_result"
    }
   ],
   "source": [
    "load_dotenv()"
   ]
  },
  {
   "cell_type": "code",
   "execution_count": 18,
   "metadata": {},
   "outputs": [],
   "source": [
    "PLAID_CLIENT_ID = os.getenv(\"PLAID_CLIENT_ID\")\n",
    "PLAID_SECRET = os.getenv(\"PLAID_SBX_SECRET_KEY\")\n",
    "PLAID_PUBLIC_KEY = os.getenv(\"PLAID_PUBLIC_KEY\")"
   ]
  },
  {
   "cell_type": "code",
   "execution_count": 19,
   "metadata": {},
   "outputs": [],
   "source": [
    "client = plaid.Client(client_id=PLAID_CLIENT_ID, secret=PLAID_SECRET, public_key=PLAID_PUBLIC_KEY, environment='sandbox')"
   ]
  },
  {
   "cell_type": "code",
   "execution_count": 20,
   "metadata": {},
   "outputs": [],
   "source": [
    "INSTITUTION_ID = \"ins_109508\""
   ]
  },
  {
   "cell_type": "code",
   "execution_count": 21,
   "metadata": {},
   "outputs": [],
   "source": [
    "create_tkn_response = client.Sandbox.public_token.create(INSTITUTION_ID,['transactions','income','assets'])"
   ]
  },
  {
   "cell_type": "code",
   "execution_count": 22,
   "metadata": {},
   "outputs": [
    {
     "name": "stdout",
     "output_type": "stream",
     "text": [
      "{'public_token': 'public-sandbox-644101ed-bf1f-4bb6-a877-55770cd93b79', 'request_id': 'gDWmijhISAMfc7P'}\n"
     ]
    }
   ],
   "source": [
    "print(create_tkn_response)"
   ]
  },
  {
   "cell_type": "code",
   "execution_count": 23,
   "metadata": {},
   "outputs": [],
   "source": [
    "exchange_response = client.Item.public_token.exchange(create_tkn_response['public_token'])"
   ]
  },
  {
   "cell_type": "code",
   "execution_count": 24,
   "metadata": {},
   "outputs": [
    {
     "name": "stdout",
     "output_type": "stream",
     "text": [
      "{'access_token': 'access-sandbox-2d86a5a4-6760-4b89-839f-5b0c919fde27', 'item_id': 'px5xR3xk9ZhodzlAG5yDFl6gPDdee1uLNqXZn', 'request_id': 'FiTSuTSBaeZpP4b'}\n"
     ]
    }
   ],
   "source": [
    "print(exchange_response)"
   ]
  },
  {
   "cell_type": "code",
   "execution_count": 25,
   "metadata": {},
   "outputs": [],
   "source": [
    "access_token = exchange_response['access_token']"
   ]
  },
  {
   "cell_type": "code",
   "execution_count": 26,
   "metadata": {},
   "outputs": [
    {
     "data": {
      "text/plain": [
       "{'accounts': [{'account_id': '6ZgZb8Zyd5hMP376egdrCnWjEva1Q3FgK9z9N',\n",
       "   'balances': {'available': 100,\n",
       "    'current': 110,\n",
       "    'iso_currency_code': 'USD',\n",
       "    'limit': None,\n",
       "    'unofficial_currency_code': None},\n",
       "   'mask': '0000',\n",
       "   'name': 'Plaid Checking',\n",
       "   'official_name': 'Plaid Gold Standard 0% Interest Checking',\n",
       "   'subtype': 'checking',\n",
       "   'type': 'depository'},\n",
       "  {'account_id': 'XZ8ZV5ZKB6hadl5ZjopnFQ8drkmRK5cdj6D6G',\n",
       "   'balances': {'available': 200,\n",
       "    'current': 210,\n",
       "    'iso_currency_code': 'USD',\n",
       "    'limit': None,\n",
       "    'unofficial_currency_code': None},\n",
       "   'mask': '1111',\n",
       "   'name': 'Plaid Saving',\n",
       "   'official_name': 'Plaid Silver Standard 0.1% Interest Saving',\n",
       "   'subtype': 'savings',\n",
       "   'type': 'depository'},\n",
       "  {'account_id': 'Dm8mz5myV6Cox5geDG6BFVg3yQmkd8fvRwZwk',\n",
       "   'balances': {'available': None,\n",
       "    'current': 1000,\n",
       "    'iso_currency_code': 'USD',\n",
       "    'limit': None,\n",
       "    'unofficial_currency_code': None},\n",
       "   'mask': '2222',\n",
       "   'name': 'Plaid CD',\n",
       "   'official_name': 'Plaid Bronze Standard 0.2% Interest CD',\n",
       "   'subtype': 'cd',\n",
       "   'type': 'depository'},\n",
       "  {'account_id': '81p1jk1yqAs7edg9vD6nF9A5jqW7NQHwp1N1V',\n",
       "   'balances': {'available': None,\n",
       "    'current': 410,\n",
       "    'iso_currency_code': 'USD',\n",
       "    'limit': 2000,\n",
       "    'unofficial_currency_code': None},\n",
       "   'mask': '3333',\n",
       "   'name': 'Plaid Credit Card',\n",
       "   'official_name': 'Plaid Diamond 12.5% APR Interest Credit Card',\n",
       "   'subtype': 'credit card',\n",
       "   'type': 'credit'},\n",
       "  {'account_id': 'Ey9yB5ylvbIBn5XAb6eVc1rvZxe3Q6UXeR6RJ',\n",
       "   'balances': {'available': 43200,\n",
       "    'current': 43200,\n",
       "    'iso_currency_code': 'USD',\n",
       "    'limit': None,\n",
       "    'unofficial_currency_code': None},\n",
       "   'mask': '4444',\n",
       "   'name': 'Plaid Money Market',\n",
       "   'official_name': 'Plaid Platinum Standard 1.85% Interest Money Market',\n",
       "   'subtype': 'money market',\n",
       "   'type': 'depository'},\n",
       "  {'account_id': 'WQRQy5QqzVIZE5PQBp4vF73zWM5xe6Uly9B91',\n",
       "   'balances': {'available': None,\n",
       "    'current': 320.76,\n",
       "    'iso_currency_code': 'USD',\n",
       "    'limit': None,\n",
       "    'unofficial_currency_code': None},\n",
       "   'mask': '5555',\n",
       "   'name': 'Plaid IRA',\n",
       "   'official_name': None,\n",
       "   'subtype': 'ira',\n",
       "   'type': 'investment'},\n",
       "  {'account_id': 'AGnGkRGyp6txnZGJyBW4te7bAN6odqS1JjBjP',\n",
       "   'balances': {'available': None,\n",
       "    'current': 23631.9805,\n",
       "    'iso_currency_code': 'USD',\n",
       "    'limit': None,\n",
       "    'unofficial_currency_code': None},\n",
       "   'mask': '6666',\n",
       "   'name': 'Plaid 401k',\n",
       "   'official_name': None,\n",
       "   'subtype': '401k',\n",
       "   'type': 'investment'},\n",
       "  {'account_id': 'GlQlx5lKoAInx5glXAJVioPWK5mEkxs1xBZBo',\n",
       "   'balances': {'available': None,\n",
       "    'current': 65262,\n",
       "    'iso_currency_code': 'USD',\n",
       "    'limit': None,\n",
       "    'unofficial_currency_code': None},\n",
       "   'mask': '7777',\n",
       "   'name': 'Plaid Student Loan',\n",
       "   'official_name': None,\n",
       "   'subtype': 'student',\n",
       "   'type': 'loan'},\n",
       "  {'account_id': 'nk5kQzkxweiL6KM4PpdAFlEWdKy5Q4f6VeJeM',\n",
       "   'balances': {'available': None,\n",
       "    'current': 56302.06,\n",
       "    'iso_currency_code': 'USD',\n",
       "    'limit': None,\n",
       "    'unofficial_currency_code': None},\n",
       "   'mask': '8888',\n",
       "   'name': 'Plaid Mortgage',\n",
       "   'official_name': None,\n",
       "   'subtype': 'mortgage',\n",
       "   'type': 'loan'}],\n",
       " 'item': {'available_products': ['auth',\n",
       "   'balance',\n",
       "   'credit_details',\n",
       "   'identity',\n",
       "   'investments',\n",
       "   'liabilities'],\n",
       "  'billed_products': ['assets', 'income', 'transactions'],\n",
       "  'consent_expiration_time': None,\n",
       "  'error': None,\n",
       "  'institution_id': 'ins_109508',\n",
       "  'item_id': 'px5xR3xk9ZhodzlAG5yDFl6gPDdee1uLNqXZn',\n",
       "  'webhook': ''},\n",
       " 'request_id': 'KThcaMo7wvbpBC4'}"
      ]
     },
     "execution_count": 26,
     "metadata": {},
     "output_type": "execute_result"
    }
   ],
   "source": [
    "client.Accounts.get(access_token)"
   ]
  },
  {
   "cell_type": "code",
   "execution_count": 27,
   "metadata": {},
   "outputs": [],
   "source": [
    "start_date = '{:%Y-%m-%d}'.format(datetime.datetime.now() + datetime.timedelta(-90))\n",
    "end_date = '{:%Y-%m-%d}'.format(datetime.datetime.now())"
   ]
  },
  {
   "cell_type": "code",
   "execution_count": 156,
   "metadata": {},
   "outputs": [],
   "source": [
    "transaction = client.Transactions.get(access_token,start_date,end_date)"
   ]
  },
  {
   "cell_type": "code",
   "execution_count": 43,
   "metadata": {},
   "outputs": [
    {
     "data": {
      "text/plain": [
       "{'account_id': '81p1jk1yqAs7edg9vD6nF9A5jqW7NQHwp1N1V',\n",
       " 'account_owner': None,\n",
       " 'amount': 500,\n",
       " 'authorized_date': None,\n",
       " 'category': ['Food and Drink', 'Restaurants'],\n",
       " 'category_id': '13005000',\n",
       " 'date': '2020-07-24',\n",
       " 'iso_currency_code': 'USD',\n",
       " 'location': {'address': None,\n",
       "  'city': None,\n",
       "  'country': None,\n",
       "  'lat': None,\n",
       "  'lon': None,\n",
       "  'postal_code': None,\n",
       "  'region': None,\n",
       "  'store_number': None},\n",
       " 'merchant_name': 'Tectra Inc',\n",
       " 'name': 'Tectra Inc',\n",
       " 'payment_channel': 'in store',\n",
       " 'payment_meta': {'by_order_of': None,\n",
       "  'payee': None,\n",
       "  'payer': None,\n",
       "  'payment_method': None,\n",
       "  'payment_processor': None,\n",
       "  'ppd_id': None,\n",
       "  'reason': None,\n",
       "  'reference_number': None},\n",
       " 'pending': False,\n",
       " 'pending_transaction_id': None,\n",
       " 'transaction_code': None,\n",
       " 'transaction_id': 'JrErN5rB96I7x5ardJpBF9DwJeMJpDtdg4o7x',\n",
       " 'transaction_type': 'place',\n",
       " 'unofficial_currency_code': None}"
      ]
     },
     "execution_count": 43,
     "metadata": {},
     "output_type": "execute_result"
    }
   ],
   "source": [
    "transaction['transactions'][0]"
   ]
  },
  {
   "cell_type": "code",
   "execution_count": 99,
   "metadata": {},
   "outputs": [
    {
     "name": "stdout",
     "output_type": "stream",
     "text": [
      "['Food and Drink', 'Restaurants']\n",
      "['Payment']\n",
      "['Food and Drink', 'Restaurants', 'Fast Food']\n",
      "['Shops', 'Sporting Goods']\n",
      "['Payment', 'Credit Card']\n",
      "['Travel', 'Taxi']\n",
      "['Transfer', 'Debit']\n",
      "['Transfer', 'Deposit']\n",
      "['Recreation', 'Gyms and Fitness Centers']\n",
      "['Travel', 'Airlines and Aviation Services']\n",
      "['Food and Drink', 'Restaurants', 'Fast Food']\n",
      "['Food and Drink', 'Restaurants', 'Coffee Shop']\n",
      "['Food and Drink', 'Restaurants']\n",
      "['Transfer', 'Credit']\n",
      "['Travel', 'Airlines and Aviation Services']\n",
      "['Travel', 'Taxi']\n",
      "['Food and Drink', 'Restaurants']\n",
      "['Payment']\n",
      "['Food and Drink', 'Restaurants', 'Fast Food']\n",
      "['Shops', 'Sporting Goods']\n",
      "['Payment', 'Credit Card']\n",
      "['Travel', 'Taxi']\n",
      "['Transfer', 'Debit']\n",
      "['Transfer', 'Deposit']\n",
      "['Recreation', 'Gyms and Fitness Centers']\n",
      "['Travel', 'Airlines and Aviation Services']\n",
      "['Food and Drink', 'Restaurants', 'Fast Food']\n",
      "['Food and Drink', 'Restaurants', 'Coffee Shop']\n",
      "['Food and Drink', 'Restaurants']\n",
      "['Transfer', 'Credit']\n",
      "['Travel', 'Airlines and Aviation Services']\n",
      "['Travel', 'Taxi']\n",
      "['Food and Drink', 'Restaurants']\n",
      "['Payment']\n",
      "['Food and Drink', 'Restaurants', 'Fast Food']\n",
      "['Shops', 'Sporting Goods']\n",
      "['Payment', 'Credit Card']\n",
      "['Travel', 'Taxi']\n",
      "['Transfer', 'Debit']\n",
      "['Transfer', 'Deposit']\n",
      "['Recreation', 'Gyms and Fitness Centers']\n",
      "['Travel', 'Airlines and Aviation Services']\n",
      "['Food and Drink', 'Restaurants', 'Fast Food']\n",
      "['Food and Drink', 'Restaurants', 'Coffee Shop']\n",
      "['Food and Drink', 'Restaurants']\n",
      "['Transfer', 'Credit']\n",
      "['Travel', 'Airlines and Aviation Services']\n",
      "['Travel', 'Taxi']\n",
      "['Food and Drink', 'Restaurants']\n"
     ]
    }
   ],
   "source": [
    "for x in transaction['transactions']:\n",
    "    print(x['category'])"
   ]
  },
  {
   "cell_type": "code",
   "execution_count": 100,
   "metadata": {},
   "outputs": [
    {
     "data": {
      "text/html": [
       "<div>\n",
       "<style scoped>\n",
       "    .dataframe tbody tr th:only-of-type {\n",
       "        vertical-align: middle;\n",
       "    }\n",
       "\n",
       "    .dataframe tbody tr th {\n",
       "        vertical-align: top;\n",
       "    }\n",
       "\n",
       "    .dataframe thead th {\n",
       "        text-align: right;\n",
       "    }\n",
       "</style>\n",
       "<table border=\"1\" class=\"dataframe\">\n",
       "  <thead>\n",
       "    <tr style=\"text-align: right;\">\n",
       "      <th></th>\n",
       "      <th>Date</th>\n",
       "      <th>Name</th>\n",
       "      <th>Amount</th>\n",
       "      <th>Category</th>\n",
       "    </tr>\n",
       "  </thead>\n",
       "  <tbody>\n",
       "  </tbody>\n",
       "</table>\n",
       "</div>"
      ],
      "text/plain": [
       "Empty DataFrame\n",
       "Columns: [Date, Name, Amount, Category]\n",
       "Index: []"
      ]
     },
     "execution_count": 100,
     "metadata": {},
     "output_type": "execute_result"
    }
   ],
   "source": [
    "all_transactions = pd.DataFrame(columns=['Date','Name','Amount','Category'])\n",
    "all_transactions"
   ]
  },
  {
   "cell_type": "code",
   "execution_count": 101,
   "metadata": {},
   "outputs": [],
   "source": [
    "Date = []\n",
    "Name = []\n",
    "Amount = []\n",
    "Category = []"
   ]
  },
  {
   "cell_type": "code",
   "execution_count": 102,
   "metadata": {},
   "outputs": [],
   "source": [
    "for i in transaction['transactions']:\n",
    "    Date.append(i['date'])\n",
    "    Name.append(i['name'])\n",
    "    Amount.append(i['amount'])\n",
    "    Category.append(i['category'][0])\n",
    "all_transactions[\"Date\"] = pd.Series(Date)\n",
    "all_transactions[\"Name\"] = pd.Series(Name)\n",
    "all_transactions[\"Amount\"] = pd.Series(Amount)\n",
    "all_transactions[\"Category\"] = pd.Series(Category)"
   ]
  },
  {
   "cell_type": "code",
   "execution_count": 103,
   "metadata": {},
   "outputs": [
    {
     "data": {
      "text/html": [
       "<div>\n",
       "<style scoped>\n",
       "    .dataframe tbody tr th:only-of-type {\n",
       "        vertical-align: middle;\n",
       "    }\n",
       "\n",
       "    .dataframe tbody tr th {\n",
       "        vertical-align: top;\n",
       "    }\n",
       "\n",
       "    .dataframe thead th {\n",
       "        text-align: right;\n",
       "    }\n",
       "</style>\n",
       "<table border=\"1\" class=\"dataframe\">\n",
       "  <thead>\n",
       "    <tr style=\"text-align: right;\">\n",
       "      <th></th>\n",
       "      <th>Date</th>\n",
       "      <th>Name</th>\n",
       "      <th>Amount</th>\n",
       "      <th>Category</th>\n",
       "    </tr>\n",
       "  </thead>\n",
       "  <tbody>\n",
       "    <tr>\n",
       "      <th>0</th>\n",
       "      <td>2020-07-24</td>\n",
       "      <td>Tectra Inc</td>\n",
       "      <td>500.0</td>\n",
       "      <td>Food and Drink</td>\n",
       "    </tr>\n",
       "    <tr>\n",
       "      <th>1</th>\n",
       "      <td>2020-07-23</td>\n",
       "      <td>AUTOMATIC PAYMENT - THANK</td>\n",
       "      <td>2078.5</td>\n",
       "      <td>Payment</td>\n",
       "    </tr>\n",
       "    <tr>\n",
       "      <th>2</th>\n",
       "      <td>2020-07-23</td>\n",
       "      <td>KFC</td>\n",
       "      <td>500.0</td>\n",
       "      <td>Food and Drink</td>\n",
       "    </tr>\n",
       "    <tr>\n",
       "      <th>3</th>\n",
       "      <td>2020-07-23</td>\n",
       "      <td>Madison Bicycle Shop</td>\n",
       "      <td>500.0</td>\n",
       "      <td>Shops</td>\n",
       "    </tr>\n",
       "    <tr>\n",
       "      <th>4</th>\n",
       "      <td>2020-07-14</td>\n",
       "      <td>CREDIT CARD 3333 PAYMENT *//</td>\n",
       "      <td>25.0</td>\n",
       "      <td>Payment</td>\n",
       "    </tr>\n",
       "  </tbody>\n",
       "</table>\n",
       "</div>"
      ],
      "text/plain": [
       "         Date                          Name  Amount        Category\n",
       "0  2020-07-24                    Tectra Inc   500.0  Food and Drink\n",
       "1  2020-07-23     AUTOMATIC PAYMENT - THANK  2078.5         Payment\n",
       "2  2020-07-23                           KFC   500.0  Food and Drink\n",
       "3  2020-07-23          Madison Bicycle Shop   500.0           Shops\n",
       "4  2020-07-14  CREDIT CARD 3333 PAYMENT *//    25.0         Payment"
      ]
     },
     "execution_count": 103,
     "metadata": {},
     "output_type": "execute_result"
    }
   ],
   "source": [
    "all_transactions.head()"
   ]
  },
  {
   "cell_type": "code",
   "execution_count": 105,
   "metadata": {},
   "outputs": [
    {
     "data": {
      "text/plain": [
       "Date         object\n",
       "Name         object\n",
       "Amount      float64\n",
       "Category     object\n",
       "dtype: object"
      ]
     },
     "execution_count": 105,
     "metadata": {},
     "output_type": "execute_result"
    }
   ],
   "source": [
    "all_transactions.dtypes"
   ]
  },
  {
   "cell_type": "code",
   "execution_count": 106,
   "metadata": {},
   "outputs": [],
   "source": [
    "all_transactions['Date']= pd.to_datetime(all_transactions['Date'])\n",
    "all_transactions.set_index(['Date'],inplace=True)"
   ]
  },
  {
   "cell_type": "code",
   "execution_count": 107,
   "metadata": {},
   "outputs": [
    {
     "data": {
      "text/html": [
       "<div>\n",
       "<style scoped>\n",
       "    .dataframe tbody tr th:only-of-type {\n",
       "        vertical-align: middle;\n",
       "    }\n",
       "\n",
       "    .dataframe tbody tr th {\n",
       "        vertical-align: top;\n",
       "    }\n",
       "\n",
       "    .dataframe thead th {\n",
       "        text-align: right;\n",
       "    }\n",
       "</style>\n",
       "<table border=\"1\" class=\"dataframe\">\n",
       "  <thead>\n",
       "    <tr style=\"text-align: right;\">\n",
       "      <th></th>\n",
       "      <th>Name</th>\n",
       "      <th>Amount</th>\n",
       "      <th>Category</th>\n",
       "    </tr>\n",
       "    <tr>\n",
       "      <th>Date</th>\n",
       "      <th></th>\n",
       "      <th></th>\n",
       "      <th></th>\n",
       "    </tr>\n",
       "  </thead>\n",
       "  <tbody>\n",
       "    <tr>\n",
       "      <th>2020-04-25</th>\n",
       "      <td>Tectra Inc</td>\n",
       "      <td>500.00</td>\n",
       "      <td>Food and Drink</td>\n",
       "    </tr>\n",
       "    <tr>\n",
       "      <th>2020-04-28</th>\n",
       "      <td>Uber 072515 SF**POOL**</td>\n",
       "      <td>6.33</td>\n",
       "      <td>Travel</td>\n",
       "    </tr>\n",
       "    <tr>\n",
       "      <th>2020-04-30</th>\n",
       "      <td>United Airlines</td>\n",
       "      <td>500.00</td>\n",
       "      <td>Travel</td>\n",
       "    </tr>\n",
       "    <tr>\n",
       "      <th>2020-05-10</th>\n",
       "      <td>INTRST PYMNT</td>\n",
       "      <td>-4.22</td>\n",
       "      <td>Transfer</td>\n",
       "    </tr>\n",
       "    <tr>\n",
       "      <th>2020-05-11</th>\n",
       "      <td>SparkFun</td>\n",
       "      <td>89.40</td>\n",
       "      <td>Food and Drink</td>\n",
       "    </tr>\n",
       "  </tbody>\n",
       "</table>\n",
       "</div>"
      ],
      "text/plain": [
       "                              Name  Amount        Category\n",
       "Date                                                      \n",
       "2020-04-25              Tectra Inc  500.00  Food and Drink\n",
       "2020-04-28  Uber 072515 SF**POOL**    6.33          Travel\n",
       "2020-04-30         United Airlines  500.00          Travel\n",
       "2020-05-10            INTRST PYMNT   -4.22        Transfer\n",
       "2020-05-11                SparkFun   89.40  Food and Drink"
      ]
     },
     "execution_count": 107,
     "metadata": {},
     "output_type": "execute_result"
    }
   ],
   "source": [
    "all_transactions.sort_index(inplace=True)\n",
    "all_transactions.head()"
   ]
  },
  {
   "cell_type": "code",
   "execution_count": 131,
   "metadata": {},
   "outputs": [
    {
     "data": {
      "text/plain": [
       "Category\n",
       "Food and Drink     3817.19\n",
       "Payment            6310.50\n",
       "Recreation          235.50\n",
       "Shops              1500.00\n",
       "Transfer          20537.34\n",
       "Travel               35.19\n",
       "Name: Amount, dtype: float64"
      ]
     },
     "execution_count": 131,
     "metadata": {},
     "output_type": "execute_result"
    }
   ],
   "source": [
    "categories = all_transactions.groupby('Category')['Amount'].sum()\n",
    "categories"
   ]
  },
  {
   "cell_type": "code",
   "execution_count": 140,
   "metadata": {},
   "outputs": [
    {
     "data": {
      "text/plain": [
       "<matplotlib.axes._subplots.AxesSubplot at 0x11b423a90>"
      ]
     },
     "execution_count": 140,
     "metadata": {},
     "output_type": "execute_result"
    },
    {
     "data": {
      "image/png": "[encoded data removed]",
      "text/plain": [
       "<Figure size 576x576 with 1 Axes>"
      ]
     },
     "metadata": {},
     "output_type": "display_data"
    }
   ],
   "source": [
    "categories.plot(kind='pie',figsize=(8,8),legend=True,title='Expense Amount per Category')\n",
    "\n",
    "########### Change background to white ###################"
   ]
  },
  {
   "cell_type": "code",
   "execution_count": 148,
   "metadata": {},
   "outputs": [
    {
     "data": {
      "text/html": [
       "<div>\n",
       "<style scoped>\n",
       "    .dataframe tbody tr th:only-of-type {\n",
       "        vertical-align: middle;\n",
       "    }\n",
       "\n",
       "    .dataframe tbody tr th {\n",
       "        vertical-align: top;\n",
       "    }\n",
       "\n",
       "    .dataframe thead th {\n",
       "        text-align: right;\n",
       "    }\n",
       "</style>\n",
       "<table border=\"1\" class=\"dataframe\">\n",
       "  <thead>\n",
       "    <tr style=\"text-align: right;\">\n",
       "      <th></th>\n",
       "      <th>Amount</th>\n",
       "    </tr>\n",
       "    <tr>\n",
       "      <th>Date</th>\n",
       "      <th></th>\n",
       "    </tr>\n",
       "  </thead>\n",
       "  <tbody>\n",
       "    <tr>\n",
       "      <th>2020-04-25</th>\n",
       "      <td>500.00</td>\n",
       "    </tr>\n",
       "    <tr>\n",
       "      <th>2020-04-28</th>\n",
       "      <td>6.33</td>\n",
       "    </tr>\n",
       "    <tr>\n",
       "      <th>2020-04-30</th>\n",
       "      <td>500.00</td>\n",
       "    </tr>\n",
       "    <tr>\n",
       "      <th>2020-05-10</th>\n",
       "      <td>-4.22</td>\n",
       "    </tr>\n",
       "    <tr>\n",
       "      <th>2020-05-11</th>\n",
       "      <td>89.40</td>\n",
       "    </tr>\n",
       "  </tbody>\n",
       "</table>\n",
       "</div>"
      ],
      "text/plain": [
       "            Amount\n",
       "Date              \n",
       "2020-04-25  500.00\n",
       "2020-04-28    6.33\n",
       "2020-04-30  500.00\n",
       "2020-05-10   -4.22\n",
       "2020-05-11   89.40"
      ]
     },
     "execution_count": 148,
     "metadata": {},
     "output_type": "execute_result"
    }
   ],
   "source": [
    "monthly_expense = all_transactions.drop(columns=['Name','Category'])\n",
    "monthly_expense.head()"
   ]
  },
  {
   "cell_type": "code",
   "execution_count": 163,
   "metadata": {},
   "outputs": [
    {
     "data": {
      "text/plain": [
       "<matplotlib.axes._subplots.AxesSubplot at 0x11bb6dc50>"
      ]
     },
     "execution_count": 163,
     "metadata": {},
     "output_type": "execute_result"
    },
    {
     "data": {
      "image/png": "[encoded data removed]",
      "text/plain": [
       "<Figure size 864x576 with 1 Axes>"
      ]
     },
     "metadata": {
      "needs_background": "light"
     },
     "output_type": "display_data"
    }
   ],
   "source": [
    "monthly_expense.groupby(monthly_expense.index.month).sum().plot(kind='bar',figsize=(12,8))"
   ]
  },
  {
   "cell_type": "markdown",
   "metadata": {},
   "source": [
    "## Income"
   ]
  },
  {
   "cell_type": "code",
   "execution_count": 158,
   "metadata": {},
   "outputs": [],
   "source": [
    "income = client.Income.get(access_token)"
   ]
  },
  {
   "cell_type": "code",
   "execution_count": 159,
   "metadata": {},
   "outputs": [
    {
     "data": {
      "text/plain": [
       "{'income_streams': [{'confidence': 0.99,\n",
       "   'days': 690,\n",
       "   'monthly_income': 500,\n",
       "   'name': 'UNITED AIRLINES'}],\n",
       " 'last_year_income': 6000,\n",
       " 'last_year_income_before_tax': 7285,\n",
       " 'max_number_of_overlapping_income_streams': 1,\n",
       " 'number_of_income_streams': 1,\n",
       " 'projected_yearly_income': 6085,\n",
       " 'projected_yearly_income_before_tax': 7389}"
      ]
     },
     "execution_count": 159,
     "metadata": {},
     "output_type": "execute_result"
    }
   ],
   "source": [
    "income['income']"
   ]
  },
  {
   "cell_type": "code",
   "execution_count": 171,
   "metadata": {},
   "outputs": [
    {
     "name": "stdout",
     "output_type": "stream",
     "text": [
      "Last year income before tax: 7285\n",
      "Monthly income : 500\n",
      "Projected yearly income: 6085\n"
     ]
    }
   ],
   "source": [
    "last_year = income['income']['last_year_income_before_tax']\n",
    "print(f\"Last year income before tax: {last_year}\")\n",
    "month_income = income[\"income\"][\"income_streams\"][0][\"monthly_income\"]\n",
    "print(f'Monthly income : {month_income}')\n",
    "projected = income[\"income\"][\"projected_yearly_income\"]\n",
    "print(f'Projected yearly income: {projected}')"
   ]
  },
  {
   "cell_type": "code",
   "execution_count": null,
   "metadata": {},
   "outputs": [],
   "source": []
  }
 ],
 "metadata": {
  "kernelspec": {
   "display_name": "Python 3",
   "language": "python",
   "name": "python3"
  },
  "language_info": {
   "codemirror_mode": {
    "name": "ipython",
    "version": 3
   },
   "file_extension": ".py",
   "mimetype": "text/x-python",
   "name": "python",
   "nbconvert_exporter": "python",
   "pygments_lexer": "ipython3",
   "version": "3.7.6"
  }
 },
 "nbformat": 4,
 "nbformat_minor": 4
}
