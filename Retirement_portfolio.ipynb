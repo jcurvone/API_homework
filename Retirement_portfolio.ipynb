{
 "cells": [
  {
   "cell_type": "code",
   "execution_count": 75,
   "metadata": {},
   "outputs": [],
   "source": [
    "import numpy as np\n",
    "import pandas as pd\n",
    "import os\n",
    "from datetime import datetime, timedelta\n",
    "import matplotlib.pyplot as plt\n",
    "import alpaca_trade_api as tradeapi\n",
    "%matplotlib inline"
   ]
  },
  {
   "cell_type": "code",
   "execution_count": 76,
   "metadata": {},
   "outputs": [],
   "source": [
    "np.random.seed(42)"
   ]
  },
  {
   "cell_type": "code",
   "execution_count": 77,
   "metadata": {},
   "outputs": [
    {
     "data": {
      "text/plain": [
       "True"
      ]
     },
     "execution_count": 77,
     "metadata": {},
     "output_type": "execute_result"
    }
   ],
   "source": [
    "from dotenv import load_dotenv\n",
    "load_dotenv()"
   ]
  },
  {
   "cell_type": "code",
   "execution_count": 78,
   "metadata": {},
   "outputs": [],
   "source": [
    "alpaca_api_key = os.getenv(\"ALPACA_API_KEY\")\n",
    "alpaca_secret_key = os.getenv(\"ALPACA_SECRET_KEY\")\n",
    "\n",
    "api = tradeapi.REST(alpaca_api_key,alpaca_secret_key,api_version=\"v2\")"
   ]
  },
  {
   "cell_type": "code",
   "execution_count": 79,
   "metadata": {},
   "outputs": [
    {
     "data": {
      "text/html": [
       "<div>\n",
       "<style scoped>\n",
       "    .dataframe tbody tr th:only-of-type {\n",
       "        vertical-align: middle;\n",
       "    }\n",
       "\n",
       "    .dataframe tbody tr th {\n",
       "        vertical-align: top;\n",
       "    }\n",
       "\n",
       "    .dataframe thead tr th {\n",
       "        text-align: left;\n",
       "    }\n",
       "</style>\n",
       "<table border=\"1\" class=\"dataframe\">\n",
       "  <thead>\n",
       "    <tr>\n",
       "      <th></th>\n",
       "      <th>AGG</th>\n",
       "      <th>SPY</th>\n",
       "    </tr>\n",
       "    <tr>\n",
       "      <th></th>\n",
       "      <th>close</th>\n",
       "      <th>close</th>\n",
       "    </tr>\n",
       "  </thead>\n",
       "  <tbody>\n",
       "    <tr>\n",
       "      <th>2019-01-02 00:00:00-05:00</th>\n",
       "      <td>106.585</td>\n",
       "      <td>249.89</td>\n",
       "    </tr>\n",
       "    <tr>\n",
       "      <th>2019-01-03 00:00:00-05:00</th>\n",
       "      <td>107.020</td>\n",
       "      <td>244.46</td>\n",
       "    </tr>\n",
       "    <tr>\n",
       "      <th>2019-01-04 00:00:00-05:00</th>\n",
       "      <td>106.695</td>\n",
       "      <td>252.41</td>\n",
       "    </tr>\n",
       "    <tr>\n",
       "      <th>2019-01-07 00:00:00-05:00</th>\n",
       "      <td>106.470</td>\n",
       "      <td>254.40</td>\n",
       "    </tr>\n",
       "    <tr>\n",
       "      <th>2019-01-08 00:00:00-05:00</th>\n",
       "      <td>106.420</td>\n",
       "      <td>256.65</td>\n",
       "    </tr>\n",
       "  </tbody>\n",
       "</table>\n",
       "</div>"
      ],
      "text/plain": [
       "                               AGG     SPY\n",
       "                             close   close\n",
       "2019-01-02 00:00:00-05:00  106.585  249.89\n",
       "2019-01-03 00:00:00-05:00  107.020  244.46\n",
       "2019-01-04 00:00:00-05:00  106.695  252.41\n",
       "2019-01-07 00:00:00-05:00  106.470  254.40\n",
       "2019-01-08 00:00:00-05:00  106.420  256.65"
      ]
     },
     "execution_count": 79,
     "metadata": {},
     "output_type": "execute_result"
    }
   ],
   "source": [
    "ticker = [\"SPY\", \"AGG\"]\n",
    "timeframe = \"1D\"\n",
    "\n",
    "start_date = pd.Timestamp('2019-01-01', tz='America/New_York').isoformat()\n",
    "end_date = pd.Timestamp('2019-12-31', tz='America/New_York').isoformat()\n",
    "\n",
    "df = api.get_barset(ticker,timeframe,limit=None,start=start_date,end=end_date,after=None,until=None,).df\n",
    "\n",
    "df = df.drop(columns=['open', 'high', 'low', 'volume'],level=1)\n",
    "df.head()"
   ]
  },
  {
   "cell_type": "code",
   "execution_count": 80,
   "metadata": {},
   "outputs": [
    {
     "data": {
      "text/html": [
       "<div>\n",
       "<style scoped>\n",
       "    .dataframe tbody tr th:only-of-type {\n",
       "        vertical-align: middle;\n",
       "    }\n",
       "\n",
       "    .dataframe tbody tr th {\n",
       "        vertical-align: top;\n",
       "    }\n",
       "\n",
       "    .dataframe thead th {\n",
       "        text-align: right;\n",
       "    }\n",
       "</style>\n",
       "<table border=\"1\" class=\"dataframe\">\n",
       "  <thead>\n",
       "    <tr style=\"text-align: right;\">\n",
       "      <th></th>\n",
       "      <th>AGG</th>\n",
       "      <th>SPY</th>\n",
       "    </tr>\n",
       "  </thead>\n",
       "  <tbody>\n",
       "    <tr>\n",
       "      <th>2019-01-02</th>\n",
       "      <td>106.585</td>\n",
       "      <td>249.89</td>\n",
       "    </tr>\n",
       "    <tr>\n",
       "      <th>2019-01-03</th>\n",
       "      <td>107.020</td>\n",
       "      <td>244.46</td>\n",
       "    </tr>\n",
       "    <tr>\n",
       "      <th>2019-01-04</th>\n",
       "      <td>106.695</td>\n",
       "      <td>252.41</td>\n",
       "    </tr>\n",
       "    <tr>\n",
       "      <th>2019-01-07</th>\n",
       "      <td>106.470</td>\n",
       "      <td>254.40</td>\n",
       "    </tr>\n",
       "    <tr>\n",
       "      <th>2019-01-08</th>\n",
       "      <td>106.420</td>\n",
       "      <td>256.65</td>\n",
       "    </tr>\n",
       "  </tbody>\n",
       "</table>\n",
       "</div>"
      ],
      "text/plain": [
       "                AGG     SPY\n",
       "2019-01-02  106.585  249.89\n",
       "2019-01-03  107.020  244.46\n",
       "2019-01-04  106.695  252.41\n",
       "2019-01-07  106.470  254.40\n",
       "2019-01-08  106.420  256.65"
      ]
     },
     "execution_count": 80,
     "metadata": {},
     "output_type": "execute_result"
    }
   ],
   "source": [
    "df = df.droplevel(axis=1, level=0)\n",
    "df.index = df.index.date\n",
    "df.columns = ['AGG','SPY']\n",
    "df.head()"
   ]
  },
  {
   "cell_type": "code",
   "execution_count": 81,
   "metadata": {},
   "outputs": [
    {
     "data": {
      "text/html": [
       "<div>\n",
       "<style scoped>\n",
       "    .dataframe tbody tr th:only-of-type {\n",
       "        vertical-align: middle;\n",
       "    }\n",
       "\n",
       "    .dataframe tbody tr th {\n",
       "        vertical-align: top;\n",
       "    }\n",
       "\n",
       "    .dataframe thead th {\n",
       "        text-align: right;\n",
       "    }\n",
       "</style>\n",
       "<table border=\"1\" class=\"dataframe\">\n",
       "  <thead>\n",
       "    <tr style=\"text-align: right;\">\n",
       "      <th></th>\n",
       "      <th>AGG</th>\n",
       "      <th>SPY</th>\n",
       "    </tr>\n",
       "  </thead>\n",
       "  <tbody>\n",
       "    <tr>\n",
       "      <th>2019-01-02</th>\n",
       "      <td>NaN</td>\n",
       "      <td>NaN</td>\n",
       "    </tr>\n",
       "    <tr>\n",
       "      <th>2019-01-03</th>\n",
       "      <td>0.004081</td>\n",
       "      <td>-0.021730</td>\n",
       "    </tr>\n",
       "    <tr>\n",
       "      <th>2019-01-04</th>\n",
       "      <td>-0.003037</td>\n",
       "      <td>0.032521</td>\n",
       "    </tr>\n",
       "    <tr>\n",
       "      <th>2019-01-07</th>\n",
       "      <td>-0.002109</td>\n",
       "      <td>0.007884</td>\n",
       "    </tr>\n",
       "    <tr>\n",
       "      <th>2019-01-08</th>\n",
       "      <td>-0.000470</td>\n",
       "      <td>0.008844</td>\n",
       "    </tr>\n",
       "  </tbody>\n",
       "</table>\n",
       "</div>"
      ],
      "text/plain": [
       "                 AGG       SPY\n",
       "2019-01-02       NaN       NaN\n",
       "2019-01-03  0.004081 -0.021730\n",
       "2019-01-04 -0.003037  0.032521\n",
       "2019-01-07 -0.002109  0.007884\n",
       "2019-01-08 -0.000470  0.008844"
      ]
     },
     "execution_count": 81,
     "metadata": {},
     "output_type": "execute_result"
    }
   ],
   "source": [
    "daily_returns= df.pct_change()\n",
    "daily_returns.head()"
   ]
  },
  {
   "cell_type": "code",
   "execution_count": 82,
   "metadata": {},
   "outputs": [],
   "source": [
    "agg_vol = daily_returns['AGG'].std()\n",
    "spy_vol = daily_returns['SPY'].std()\n",
    "agg_mean = daily_returns['AGG'].mean()\n",
    "spy_mean = daily_returns['SPY'].mean()\n",
    "last_agg = df['AGG'][-1]\n",
    "last_spy = df['SPY'][-1]"
   ]
  },
  {
   "cell_type": "code",
   "execution_count": 90,
   "metadata": {},
   "outputs": [],
   "source": [
    "number_simulations = 500\n",
    "number_records = 252 * 30\n",
    "monte_carlo = pd.DataFrame()\n",
    "portfolio_returns = pd.DataFrame()"
   ]
  },
  {
   "cell_type": "code",
   "execution_count": 91,
   "metadata": {},
   "outputs": [
    {
     "data": {
      "text/html": [
       "<div>\n",
       "<style scoped>\n",
       "    .dataframe tbody tr th:only-of-type {\n",
       "        vertical-align: middle;\n",
       "    }\n",
       "\n",
       "    .dataframe tbody tr th {\n",
       "        vertical-align: top;\n",
       "    }\n",
       "\n",
       "    .dataframe thead th {\n",
       "        text-align: right;\n",
       "    }\n",
       "</style>\n",
       "<table border=\"1\" class=\"dataframe\">\n",
       "  <thead>\n",
       "    <tr style=\"text-align: right;\">\n",
       "      <th></th>\n",
       "      <th>0</th>\n",
       "      <th>1</th>\n",
       "      <th>2</th>\n",
       "      <th>3</th>\n",
       "      <th>4</th>\n",
       "      <th>5</th>\n",
       "      <th>6</th>\n",
       "      <th>7</th>\n",
       "      <th>8</th>\n",
       "      <th>9</th>\n",
       "      <th>...</th>\n",
       "      <th>490</th>\n",
       "      <th>491</th>\n",
       "      <th>492</th>\n",
       "      <th>493</th>\n",
       "      <th>494</th>\n",
       "      <th>495</th>\n",
       "      <th>496</th>\n",
       "      <th>497</th>\n",
       "      <th>498</th>\n",
       "      <th>499</th>\n",
       "    </tr>\n",
       "  </thead>\n",
       "  <tbody>\n",
       "    <tr>\n",
       "      <th>0</th>\n",
       "      <td>1.000000</td>\n",
       "      <td>1.000000</td>\n",
       "      <td>1.000000</td>\n",
       "      <td>1.000000</td>\n",
       "      <td>1.000000</td>\n",
       "      <td>1.000000</td>\n",
       "      <td>1.000000</td>\n",
       "      <td>1.000000</td>\n",
       "      <td>1.000000</td>\n",
       "      <td>1.000000</td>\n",
       "      <td>...</td>\n",
       "      <td>1.000000</td>\n",
       "      <td>1.000000</td>\n",
       "      <td>1.000000</td>\n",
       "      <td>1.000000</td>\n",
       "      <td>1.000000</td>\n",
       "      <td>1.000000</td>\n",
       "      <td>1.000000</td>\n",
       "      <td>1.000000</td>\n",
       "      <td>1.000000</td>\n",
       "      <td>1.000000</td>\n",
       "    </tr>\n",
       "    <tr>\n",
       "      <th>1</th>\n",
       "      <td>1.000475</td>\n",
       "      <td>1.000536</td>\n",
       "      <td>0.998808</td>\n",
       "      <td>1.005395</td>\n",
       "      <td>1.011798</td>\n",
       "      <td>0.994450</td>\n",
       "      <td>0.997249</td>\n",
       "      <td>1.013279</td>\n",
       "      <td>1.000868</td>\n",
       "      <td>0.995375</td>\n",
       "      <td>...</td>\n",
       "      <td>1.002066</td>\n",
       "      <td>0.992708</td>\n",
       "      <td>1.001800</td>\n",
       "      <td>1.002671</td>\n",
       "      <td>0.996472</td>\n",
       "      <td>1.003160</td>\n",
       "      <td>1.001638</td>\n",
       "      <td>1.006801</td>\n",
       "      <td>0.998172</td>\n",
       "      <td>0.994764</td>\n",
       "    </tr>\n",
       "    <tr>\n",
       "      <th>2</th>\n",
       "      <td>1.008876</td>\n",
       "      <td>1.004700</td>\n",
       "      <td>1.003591</td>\n",
       "      <td>0.996710</td>\n",
       "      <td>1.009571</td>\n",
       "      <td>0.994245</td>\n",
       "      <td>0.994211</td>\n",
       "      <td>1.007202</td>\n",
       "      <td>1.000225</td>\n",
       "      <td>0.993033</td>\n",
       "      <td>...</td>\n",
       "      <td>1.005759</td>\n",
       "      <td>0.994515</td>\n",
       "      <td>1.003316</td>\n",
       "      <td>1.006181</td>\n",
       "      <td>0.997471</td>\n",
       "      <td>0.991772</td>\n",
       "      <td>1.002764</td>\n",
       "      <td>1.005410</td>\n",
       "      <td>0.996136</td>\n",
       "      <td>0.998870</td>\n",
       "    </tr>\n",
       "    <tr>\n",
       "      <th>3</th>\n",
       "      <td>1.008286</td>\n",
       "      <td>1.004228</td>\n",
       "      <td>1.003771</td>\n",
       "      <td>0.998232</td>\n",
       "      <td>1.007751</td>\n",
       "      <td>0.987666</td>\n",
       "      <td>0.998226</td>\n",
       "      <td>1.001363</td>\n",
       "      <td>1.000229</td>\n",
       "      <td>1.001276</td>\n",
       "      <td>...</td>\n",
       "      <td>1.006771</td>\n",
       "      <td>0.988440</td>\n",
       "      <td>1.004116</td>\n",
       "      <td>1.010566</td>\n",
       "      <td>0.993292</td>\n",
       "      <td>0.994452</td>\n",
       "      <td>1.008273</td>\n",
       "      <td>0.999143</td>\n",
       "      <td>0.998654</td>\n",
       "      <td>1.003328</td>\n",
       "    </tr>\n",
       "    <tr>\n",
       "      <th>4</th>\n",
       "      <td>1.013962</td>\n",
       "      <td>1.006575</td>\n",
       "      <td>1.008494</td>\n",
       "      <td>1.002635</td>\n",
       "      <td>1.013664</td>\n",
       "      <td>0.990970</td>\n",
       "      <td>1.003240</td>\n",
       "      <td>0.995492</td>\n",
       "      <td>1.002046</td>\n",
       "      <td>1.006035</td>\n",
       "      <td>...</td>\n",
       "      <td>1.004195</td>\n",
       "      <td>0.992120</td>\n",
       "      <td>1.004722</td>\n",
       "      <td>1.004421</td>\n",
       "      <td>0.994842</td>\n",
       "      <td>0.993780</td>\n",
       "      <td>1.005723</td>\n",
       "      <td>1.002247</td>\n",
       "      <td>0.996961</td>\n",
       "      <td>1.004094</td>\n",
       "    </tr>\n",
       "  </tbody>\n",
       "</table>\n",
       "<p>5 rows × 500 columns</p>\n",
       "</div>"
      ],
      "text/plain": [
       "        0         1         2         3         4         5         6    \\\n",
       "0  1.000000  1.000000  1.000000  1.000000  1.000000  1.000000  1.000000   \n",
       "1  1.000475  1.000536  0.998808  1.005395  1.011798  0.994450  0.997249   \n",
       "2  1.008876  1.004700  1.003591  0.996710  1.009571  0.994245  0.994211   \n",
       "3  1.008286  1.004228  1.003771  0.998232  1.007751  0.987666  0.998226   \n",
       "4  1.013962  1.006575  1.008494  1.002635  1.013664  0.990970  1.003240   \n",
       "\n",
       "        7         8         9    ...       490       491       492       493  \\\n",
       "0  1.000000  1.000000  1.000000  ...  1.000000  1.000000  1.000000  1.000000   \n",
       "1  1.013279  1.000868  0.995375  ...  1.002066  0.992708  1.001800  1.002671   \n",
       "2  1.007202  1.000225  0.993033  ...  1.005759  0.994515  1.003316  1.006181   \n",
       "3  1.001363  1.000229  1.001276  ...  1.006771  0.988440  1.004116  1.010566   \n",
       "4  0.995492  1.002046  1.006035  ...  1.004195  0.992120  1.004722  1.004421   \n",
       "\n",
       "        494       495       496       497       498       499  \n",
       "0  1.000000  1.000000  1.000000  1.000000  1.000000  1.000000  \n",
       "1  0.996472  1.003160  1.001638  1.006801  0.998172  0.994764  \n",
       "2  0.997471  0.991772  1.002764  1.005410  0.996136  0.998870  \n",
       "3  0.993292  0.994452  1.008273  0.999143  0.998654  1.003328  \n",
       "4  0.994842  0.993780  1.005723  1.002247  0.996961  1.004094  \n",
       "\n",
       "[5 rows x 500 columns]"
      ]
     },
     "execution_count": 91,
     "metadata": {},
     "output_type": "execute_result"
    }
   ],
   "source": [
    "for n in range(number_simulations):\n",
    "\n",
    "    \n",
    "    simulated_agg_prices = [last_agg]\n",
    "    simulated_spy_prices = [last_spy]\n",
    "    \n",
    "   \n",
    "    for i in range(number_records):\n",
    "        \n",
    "        simulated_agg_price = simulated_agg_prices[-1] * (1 + np.random.normal(agg_mean, agg_vol))\n",
    "        simulated_spy_price = simulated_spy_prices[-1] * (1 + np.random.normal(spy_mean, spy_vol))\n",
    "        \n",
    "        simulated_agg_prices.append(simulated_agg_price)\n",
    "        simulated_spy_prices.append(simulated_spy_price)\n",
    "    \n",
    "    monte_carlo[\"AGG prices\"] = pd.Series(simulated_agg_prices)\n",
    "    monte_carlo[\"SPY prices\"] = pd.Series(simulated_spy_prices)\n",
    "    \n",
    "    simulated_daily_returns = monte_carlo.pct_change()\n",
    "    \n",
    "    weights = [0.40, 0.60]\n",
    "\n",
    "    portfolio_daily_returns = simulated_daily_returns.dot(weights)\n",
    "    \n",
    "    portfolio_returns[n] = (1 + portfolio_daily_returns.fillna(0)).cumprod()\n",
    "\n",
    "portfolio_returns.head()"
   ]
  },
  {
   "cell_type": "code",
   "execution_count": 92,
   "metadata": {},
   "outputs": [
    {
     "data": {
      "text/plain": [
       "<matplotlib.axes._subplots.AxesSubplot at 0x1558cc050>"
      ]
     },
     "execution_count": 92,
     "metadata": {},
     "output_type": "execute_result"
    },
    {
     "data": {
      "image/png": "[encoded data removed]",
      "text/plain": [
       "<Figure size 864x576 with 1 Axes>"
      ]
     },
     "metadata": {
      "needs_background": "light"
     },
     "output_type": "display_data"
    }
   ],
   "source": [
    "portfolio_returns.plot(legend=False,figsize=(12,8))"
   ]
  },
  {
   "cell_type": "code",
   "execution_count": 93,
   "metadata": {},
   "outputs": [
    {
     "data": {
      "text/plain": [
       "0    192.447672\n",
       "1    171.674293\n",
       "2    177.691905\n",
       "3    138.221133\n",
       "4    175.326232\n",
       "Name: 7560, dtype: float64"
      ]
     },
     "execution_count": 93,
     "metadata": {},
     "output_type": "execute_result"
    }
   ],
   "source": [
    "ending_returns = portfolio_returns.iloc[-1, :]\n",
    "ending_returns.head()"
   ]
  },
  {
   "cell_type": "code",
   "execution_count": 94,
   "metadata": {},
   "outputs": [],
   "source": [
    "confidence_interval = ending_returns.quantile(q=[0.050, 0.950])"
   ]
  },
  {
   "cell_type": "code",
   "execution_count": 95,
   "metadata": {},
   "outputs": [
    {
     "data": {
      "text/plain": [
       "<matplotlib.lines.Line2D at 0x14caa4b10>"
      ]
     },
     "execution_count": 95,
     "metadata": {},
     "output_type": "execute_result"
    },
    {
     "data": {
      "image/png": "[encoded data removed]",
      "text/plain": [
       "<Figure size 432x288 with 1 Axes>"
      ]
     },
     "metadata": {
      "needs_background": "light"
     },
     "output_type": "display_data"
    }
   ],
   "source": [
    "plt.figure();\n",
    "ending_returns.plot(kind='hist', density=True, bins=100)\n",
    "plt.axvline(confidence_interval.iloc[0], color='r')\n",
    "plt.axvline(confidence_interval.iloc[1], color='r')"
   ]
  },
  {
   "cell_type": "code",
   "execution_count": 96,
   "metadata": {},
   "outputs": [
    {
     "name": "stdout",
     "output_type": "stream",
     "text": [
      "Expected Return for the 10th: 118.82343482859959\n",
      "Expected Return for the 50th: 198.76070846181443\n",
      "Expected Return for the 90th: 320.03700024904253\n"
     ]
    }
   ],
   "source": [
    "percentile10 = ending_returns.quantile(q=0.10)\n",
    "percentile50 = ending_returns.quantile(q=0.50)\n",
    "percentile90 = ending_returns.quantile(q=0.90)\n",
    "print(f'Expected Return for the 10th: {percentile10}')\n",
    "print(f'Expected Return for the 50th: {percentile50}')\n",
    "print(f'Expected Return for the 90th: {percentile90}')"
   ]
  },
  {
   "cell_type": "code",
   "execution_count": 97,
   "metadata": {},
   "outputs": [
    {
     "name": "stdout",
     "output_type": "stream",
     "text": [
      "Expected returns for a U$20,000 investiment in the retirement portfolio are 2396468.696571992, 3995214.1692362884, 6420740.004980851 for the 10th, 50th and 90th percentile respectivelly.\n"
     ]
    }
   ],
   "source": [
    "initial_investment = 20000\n",
    "\n",
    "investment10= initial_investment + (initial_investment * (ending_returns.quantile(q=0.10)))\n",
    "investment50= initial_investment + (initial_investment * (ending_returns.quantile(q=0.50)))\n",
    "investment90= initial_investment + (initial_investment * (ending_returns.quantile(q=0.90)))\n",
    "print(f'Expected returns for a U$20,000 investiment in the retirement portfolio are {investment10}, {investment50}, {investment90} for the 10th, 50th and 90th percentile respectivelly.')"
   ]
  },
  {
   "cell_type": "code",
   "execution_count": 98,
   "metadata": {},
   "outputs": [
    {
     "data": {
      "text/plain": [
       "True"
      ]
     },
     "execution_count": 98,
     "metadata": {},
     "output_type": "execute_result"
    }
   ],
   "source": [
    "projected_income = 7389 \n",
    "(investment10 * .04) > projected_income"
   ]
  },
  {
   "cell_type": "markdown",
   "metadata": {},
   "source": [
    "##### The 4% withdraw rate of the 10th percentile is greater than the projected yearly income in the Plaid analysys"
   ]
  },
  {
   "cell_type": "code",
   "execution_count": 99,
   "metadata": {},
   "outputs": [
    {
     "name": "stdout",
     "output_type": "stream",
     "text": [
      "Expected returns for a U$30,000 investiment in the retirement portfolio are 3594703.0448579877, 5992821.253854433, 9631110.007471276 for the 10th, 50th and 90th percentile respectivelly.\n"
     ]
    }
   ],
   "source": [
    "initial_investment = 30000\n",
    "\n",
    "investment10a= initial_investment + (initial_investment * (ending_returns.quantile(q=0.10)))\n",
    "investment50b= initial_investment + (initial_investment * (ending_returns.quantile(q=0.50)))\n",
    "investment90c= initial_investment + (initial_investment * (ending_returns.quantile(q=0.90)))\n",
    "print(f'Expected returns for a U$30,000 investiment in the retirement portfolio are {investment10a}, {investment50b}, {investment90c} for the 10th, 50th and 90th percentile respectivelly.')"
   ]
  },
  {
   "cell_type": "markdown",
   "metadata": {},
   "source": [
    "##### The 4% withdraw rate of the 10th percentile continue to be greater than the projected yearly income in the Plaid analysys¶"
   ]
  },
  {
   "cell_type": "code",
   "execution_count": 104,
   "metadata": {},
   "outputs": [],
   "source": [
    "########### CHALLENGE"
   ]
  },
  {
   "cell_type": "code",
   "execution_count": 110,
   "metadata": {},
   "outputs": [],
   "source": [
    "percentile5th = []\n",
    "percentile50th = []\n",
    "percentile95th = []\n",
    "cumulative_returns = pd.DataFrame()"
   ]
  },
  {
   "cell_type": "code",
   "execution_count": 111,
   "metadata": {},
   "outputs": [],
   "source": [
    "for x in range(number_records):\n",
    "    per5th = monte_carlo.iloc[x, :].quantile(0.05)\n",
    "    percentile5th.append(per5th)\n",
    "    per50th = monte_carlo.iloc[x, :].quantile(0.50)\n",
    "    percentile50th.append(per50th)\n",
    "    per95th = monte_carlo.iloc[x, :].quantile(0.95)\n",
    "    percentile95th.append(per95th)"
   ]
  },
  {
   "cell_type": "code",
   "execution_count": 112,
   "metadata": {},
   "outputs": [],
   "source": [
    "cumulative_returns[\"0.05 Quantile\"] = pd.Series(percentile5th)\n",
    "cumulative_returns[\"0.50 Quantile\"] = pd.Series(percentile50th)\n",
    "cumulative_returns[\"0.95 Quantile\"] = pd.Series(percentile95th)"
   ]
  },
  {
   "cell_type": "code",
   "execution_count": 113,
   "metadata": {},
   "outputs": [
    {
     "data": {
      "text/html": [
       "<div>\n",
       "<style scoped>\n",
       "    .dataframe tbody tr th:only-of-type {\n",
       "        vertical-align: middle;\n",
       "    }\n",
       "\n",
       "    .dataframe tbody tr th {\n",
       "        vertical-align: top;\n",
       "    }\n",
       "\n",
       "    .dataframe thead th {\n",
       "        text-align: right;\n",
       "    }\n",
       "</style>\n",
       "<table border=\"1\" class=\"dataframe\">\n",
       "  <thead>\n",
       "    <tr style=\"text-align: right;\">\n",
       "      <th></th>\n",
       "      <th>0.05 Quantile</th>\n",
       "      <th>0.50 Quantile</th>\n",
       "      <th>0.95 Quantile</th>\n",
       "    </tr>\n",
       "  </thead>\n",
       "  <tbody>\n",
       "    <tr>\n",
       "      <th>0</th>\n",
       "      <td>122.846000</td>\n",
       "      <td>217.130000</td>\n",
       "      <td>311.414000</td>\n",
       "    </tr>\n",
       "    <tr>\n",
       "      <th>1</th>\n",
       "      <td>122.633411</td>\n",
       "      <td>215.764015</td>\n",
       "      <td>308.894620</td>\n",
       "    </tr>\n",
       "    <tr>\n",
       "      <th>2</th>\n",
       "      <td>122.877636</td>\n",
       "      <td>216.791633</td>\n",
       "      <td>310.705630</td>\n",
       "    </tr>\n",
       "    <tr>\n",
       "      <th>3</th>\n",
       "      <td>122.914194</td>\n",
       "      <td>218.029887</td>\n",
       "      <td>313.145580</td>\n",
       "    </tr>\n",
       "    <tr>\n",
       "      <th>4</th>\n",
       "      <td>123.084372</td>\n",
       "      <td>218.155231</td>\n",
       "      <td>313.226089</td>\n",
       "    </tr>\n",
       "  </tbody>\n",
       "</table>\n",
       "</div>"
      ],
      "text/plain": [
       "   0.05 Quantile  0.50 Quantile  0.95 Quantile\n",
       "0     122.846000     217.130000     311.414000\n",
       "1     122.633411     215.764015     308.894620\n",
       "2     122.877636     216.791633     310.705630\n",
       "3     122.914194     218.029887     313.145580\n",
       "4     123.084372     218.155231     313.226089"
      ]
     },
     "execution_count": 113,
     "metadata": {},
     "output_type": "execute_result"
    }
   ],
   "source": [
    "cumulative_returns.head()"
   ]
  },
  {
   "cell_type": "code",
   "execution_count": 114,
   "metadata": {},
   "outputs": [
    {
     "data": {
      "text/plain": [
       "<matplotlib.axes._subplots.AxesSubplot at 0x17292ac50>"
      ]
     },
     "execution_count": 114,
     "metadata": {},
     "output_type": "execute_result"
    },
    {
     "data": {
      "image/png": "[encoded data removed]",
      "text/plain": [
       "<Figure size 432x288 with 1 Axes>"
      ]
     },
     "metadata": {
      "needs_background": "light"
     },
     "output_type": "display_data"
    }
   ],
   "source": [
    "cumulative_returns.plot()"
   ]
  },
  {
   "cell_type": "code",
   "execution_count": null,
   "metadata": {},
   "outputs": [],
   "source": []
  }
 ],
 "metadata": {
  "kernelspec": {
   "display_name": "Python 3",
   "language": "python",
   "name": "python3"
  },
  "language_info": {
   "codemirror_mode": {
    "name": "ipython",
    "version": 3
   },
   "file_extension": ".py",
   "mimetype": "text/x-python",
   "name": "python",
   "nbconvert_exporter": "python",
   "pygments_lexer": "ipython3",
   "version": "3.7.6"
  }
 },
 "nbformat": 4,
 "nbformat_minor": 4
}
